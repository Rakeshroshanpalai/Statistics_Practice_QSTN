{
 "cells": [
  {
   "cell_type": "code",
   "execution_count": 1,
   "id": "990f39f5-4504-42f5-8119-727f56951628",
   "metadata": {},
   "outputs": [
    {
     "name": "stdout",
     "output_type": "stream",
     "text": [
      "Mean of the list: 109.42\n",
      "Median of the list: 109.5\n"
     ]
    }
   ],
   "source": [
    "#Q1. Generate a list of 100 integers containing values between 90 to 130 and store it in the variable int_list. After generating the list, find the following:\n",
    " # (i) Write a Python function to calculate the mean of a given list of numbers.  Create a function to find the median of a list of numbers.\n",
    "import random\n",
    "\n",
    "# Step 1: Generate a list of 100 integers between 90 and 130\n",
    "int_list = [random.randint(90, 130) for _ in range(100)]\n",
    "\n",
    "# Step 2: Define the function to calculate the mean\n",
    "def calculate_mean(numbers):\n",
    "    return sum(numbers) / len(numbers)\n",
    "\n",
    "# Step 3: Define the function to calculate the median\n",
    "def calculate_median(numbers):\n",
    "    sorted_numbers = sorted(numbers)\n",
    "    n = len(sorted_numbers)\n",
    "    if n % 2 == 1:\n",
    "        # If the number of elements is odd, the median is the middle element\n",
    "        return sorted_numbers[n // 2]\n",
    "    else:\n",
    "        # If the number of elements is even, the median is the average of the two middle elements\n",
    "        mid1, mid2 = sorted_numbers[n // 2 - 1], sorted_numbers[n // 2]\n",
    "        return (mid1 + mid2) / 2\n",
    "\n",
    "# Calculate mean and median\n",
    "mean_value = calculate_mean(int_list)\n",
    "median_value = calculate_median(int_list)\n",
    "\n",
    "# Display results\n",
    "print(\"Mean of the list:\", mean_value)\n",
    "print(\"Median of the list:\", median_value)\n"
   ]
  },
  {
   "cell_type": "code",
   "execution_count": 2,
   "id": "ab3564a3-5e22-4e66-9bb2-e2da731ee89a",
   "metadata": {},
   "outputs": [
    {
     "name": "stdout",
     "output_type": "stream",
     "text": [
      "Mode(s) of the list: [97]\n"
     ]
    }
   ],
   "source": [
    "# (ii) Develop a program to compute the mode of a list of integers.\n",
    "from collections import Counter\n",
    "\n",
    "# Step 4: Define the function to calculate the mode\n",
    "def calculate_mode(numbers):\n",
    "    # Count the frequency of each number using Counter\n",
    "    count = Counter(numbers)\n",
    "    \n",
    "    # Find the highest frequency\n",
    "    max_frequency = max(count.values())\n",
    "    \n",
    "    # Find all numbers with the highest frequency (mode(s))\n",
    "    modes = [key for key, value in count.items() if value == max_frequency]\n",
    "    \n",
    "    return modes\n",
    "\n",
    "# Compute the mode(s) of the list\n",
    "mode_values = calculate_mode(int_list)\n",
    "\n",
    "# Display results\n",
    "print(\"Mode(s) of the list:\", mode_values)\n"
   ]
  },
  {
   "cell_type": "code",
   "execution_count": 3,
   "id": "85a5890d-e392-459f-9aff-7c8acd76c56c",
   "metadata": {},
   "outputs": [
    {
     "name": "stdout",
     "output_type": "stream",
     "text": [
      "Weighted Mean: 117.0\n"
     ]
    }
   ],
   "source": [
    "#  (iii) Implement a function to calculate the weighted mean of a list of values and their corresponding weights.\n",
    "# Step 5: Define the function to calculate the weighted mean\n",
    "def calculate_weighted_mean(values, weights):\n",
    "    # Ensure both lists are of the same length\n",
    "    if len(values) != len(weights):\n",
    "        raise ValueError(\"Values and weights lists must have the same length.\")\n",
    "    \n",
    "    # Calculate the sum of weighted values (x_i * w_i)\n",
    "    weighted_sum = sum(v * w for v, w in zip(values, weights))\n",
    "    \n",
    "    # Calculate the sum of weights\n",
    "    total_weight = sum(weights)\n",
    "    \n",
    "    # Calculate the weighted mean\n",
    "    weighted_mean = weighted_sum / total_weight if total_weight != 0 else 0\n",
    "    \n",
    "    return weighted_mean\n",
    "\n",
    "# Example data: values and their corresponding weights\n",
    "values = [100, 110, 120, 130]\n",
    "weights = [0.1, 0.3, 0.4, 0.2]\n",
    "\n",
    "# Calculate the weighted mean\n",
    "weighted_mean_value = calculate_weighted_mean(values, weights)\n",
    "\n",
    "# Display the result\n",
    "print(\"Weighted Mean:\", weighted_mean_value)\n"
   ]
  },
  {
   "cell_type": "code",
   "execution_count": 4,
   "id": "4bd894f6-93d7-4c57-9fb0-91aa936fa7c7",
   "metadata": {},
   "outputs": [
    {
     "name": "stdout",
     "output_type": "stream",
     "text": [
      "Geometric Mean: 2.605171084697352\n"
     ]
    }
   ],
   "source": [
    "#   (iv) Write a Python function to find the geometric mean of a list of positive numbers.\n",
    "import math\n",
    "\n",
    "# Step 6: Define the function to calculate the geometric mean\n",
    "def calculate_geometric_mean(numbers):\n",
    "    if len(numbers) == 0:\n",
    "        raise ValueError(\"The list must contain at least one positive number.\")\n",
    "    \n",
    "    # Multiply all the numbers in the list\n",
    "    product = 1\n",
    "    for num in numbers:\n",
    "        if num <= 0:\n",
    "            raise ValueError(\"All numbers must be positive.\")\n",
    "        product *= num\n",
    "    \n",
    "    # Take the n-th root of the product\n",
    "    geometric_mean = product ** (1 / len(numbers))\n",
    "    \n",
    "    return geometric_mean\n",
    "\n",
    "# Example data\n",
    "numbers = [1, 2, 3, 4, 5]\n",
    "\n",
    "# Calculate the geometric mean\n",
    "geometric_mean_value = calculate_geometric_mean(numbers)\n",
    "\n",
    "# Display the result\n",
    "print(\"Geometric Mean:\", geometric_mean_value)\n"
   ]
  },
  {
   "cell_type": "code",
   "execution_count": 5,
   "id": "8f0fecec-0688-40f6-9b41-376eec5b4a9e",
   "metadata": {},
   "outputs": [
    {
     "name": "stdout",
     "output_type": "stream",
     "text": [
      "Harmonic Mean: 2.18978102189781\n"
     ]
    }
   ],
   "source": [
    "#  (v) Create a program to calculate the harmonic mean of a list of values.\n",
    "# Step 7: Define the function to calculate the harmonic mean\n",
    "def calculate_harmonic_mean(numbers):\n",
    "    if len(numbers) == 0:\n",
    "        raise ValueError(\"The list must contain at least one positive number.\")\n",
    "    \n",
    "    # Compute the sum of reciprocals of the numbers\n",
    "    reciprocal_sum = sum(1 / num for num in numbers if num > 0)\n",
    "    \n",
    "    # Calculate the harmonic mean\n",
    "    harmonic_mean = len(numbers) / reciprocal_sum if reciprocal_sum != 0 else 0\n",
    "    \n",
    "    return harmonic_mean\n",
    "\n",
    "# Example data\n",
    "numbers = [1, 2, 3, 4, 5]\n",
    "\n",
    "# Calculate the harmonic mean\n",
    "harmonic_mean_value = calculate_harmonic_mean(numbers)\n",
    "\n",
    "# Display the result\n",
    "print(\"Harmonic Mean:\", harmonic_mean_value)\n"
   ]
  },
  {
   "cell_type": "code",
   "execution_count": 6,
   "id": "a55f4cfd-8064-49b6-97d0-c40303e9ceeb",
   "metadata": {},
   "outputs": [
    {
     "name": "stdout",
     "output_type": "stream",
     "text": [
      "Midrange: 3.0\n"
     ]
    }
   ],
   "source": [
    "#  (vi) Build a function to determine the midrange of a list of numbers (average of the minimum and maximum).\n",
    "# Step 8: Define the function to calculate the midrange\n",
    "def calculate_midrange(numbers):\n",
    "    if len(numbers) == 0:\n",
    "        raise ValueError(\"The list must contain at least one number.\")\n",
    "    \n",
    "    # Find the minimum and maximum values\n",
    "    min_value = min(numbers)\n",
    "    max_value = max(numbers)\n",
    "    \n",
    "    # Calculate the midrange\n",
    "    midrange = (min_value + max_value) / 2\n",
    "    \n",
    "    return midrange\n",
    "\n",
    "# Example data\n",
    "numbers = [1, 2, 3, 4, 5]\n",
    "\n",
    "# Calculate the midrange\n",
    "midrange_value = calculate_midrange(numbers)\n",
    "\n",
    "# Display the result\n",
    "print(\"Midrange:\", midrange_value)\n"
   ]
  },
  {
   "cell_type": "code",
   "execution_count": 7,
   "id": "9fcae098-3b19-45fc-a927-e44ffe576933",
   "metadata": {},
   "outputs": [
    {
     "name": "stdout",
     "output_type": "stream",
     "text": [
      "Trimmed Mean (10% trimmed): 126.75\n"
     ]
    }
   ],
   "source": [
    "#(vii) Implement a Python program to find the trimmed mean of a list, excluding a certain percentage of outliers.\n",
    "# Step 9: Define the function to calculate the trimmed mean\n",
    "def calculate_trimmed_mean(numbers, trim_percentage):\n",
    "    if len(numbers) == 0:\n",
    "        raise ValueError(\"The list must contain at least one number.\")\n",
    "    \n",
    "    # Ensure the trim_percentage is valid (0% to 50%)\n",
    "    if not (0 <= trim_percentage <= 50):\n",
    "        raise ValueError(\"Trim percentage must be between 0 and 50.\")\n",
    "    \n",
    "    # Sort the list in ascending order\n",
    "    sorted_numbers = sorted(numbers)\n",
    "    \n",
    "    # Calculate the number of elements to trim from each end\n",
    "    trim_count = int(len(numbers) * trim_percentage / 100)\n",
    "    \n",
    "    # Slice the sorted list to exclude the trimmed elements\n",
    "    trimmed_list = sorted_numbers[trim_count:len(numbers) - trim_count]\n",
    "    \n",
    "    # Calculate and return the mean of the trimmed list\n",
    "    trimmed_mean = sum(trimmed_list) / len(trimmed_list)\n",
    "    \n",
    "    return trimmed_mean\n",
    "\n",
    "# Example data\n",
    "numbers = [1, 2, 3, 4, 5, 100, 200, 300, 400, 500]\n",
    "\n",
    "# Set the percentage of outliers to trim (e.g., 10%)\n",
    "trim_percentage = 10\n",
    "\n",
    "# Calculate the trimmed mean\n",
    "trimmed_mean_value = calculate_trimmed_mean(numbers, trim_percentage)\n",
    "\n",
    "# Display the result\n",
    "print(\"Trimmed Mean ({}% trimmed):\".format(trim_percentage), trimmed_mean_value)\n"
   ]
  },
  {
   "cell_type": "code",
   "execution_count": 8,
   "id": "285ec4df-4bc7-47dd-839e-8e15a18e4625",
   "metadata": {},
   "outputs": [
    {
     "data": {
      "image/png": "[encoded data removed]",
      "text/plain": [
       "<Figure size 1000x600 with 1 Axes>"
      ]
     },
     "metadata": {},
     "output_type": "display_data"
    },
    {
     "name": "stderr",
     "output_type": "stream",
     "text": [
      "C:\\Users\\rakes\\AppData\\Local\\Temp\\ipykernel_31072\\743000652.py:38: FutureWarning: \n",
      "\n",
      "`shade` is now deprecated in favor of `fill`; setting `fill=True`.\n",
      "This will become an error in seaborn v0.14.0; please update your code.\n",
      "\n",
      "  sns.kdeplot(int_list2, color='green', shade=True, label=\"KDE Plot\")\n"
     ]
    },
    {
     "data": {
      "image/png": "[encoded data removed]",
      "text/plain": [
       "<Figure size 1000x600 with 1 Axes>"
      ]
     },
     "metadata": {},
     "output_type": "display_data"
    },
    {
     "name": "stderr",
     "output_type": "stream",
     "text": [
      "C:\\Users\\rakes\\AppData\\Local\\Temp\\ipykernel_31072\\743000652.py:56: FutureWarning: \n",
      "\n",
      "`shade` is now deprecated in favor of `fill`; setting `fill=True`.\n",
      "This will become an error in seaborn v0.14.0; please update your code.\n",
      "\n",
      "  sns.kdeplot(int_list2, color='green', shade=True, label=\"KDE Plot\")\n"
     ]
    },
    {
     "data": {
      "image/png": "[encoded data removed]",
      "text/plain": [
       "<Figure size 1000x600 with 1 Axes>"
      ]
     },
     "metadata": {},
     "output_type": "display_data"
    }
   ],
   "source": [
    "# 2. Generate a list of 500 integers containing values between 200 to 300 and store it in the variable `int_list2`. After generating the list, find the following:\n",
    "#(i) Compare the given list of visualization for the given data:\n",
    "\n",
    "    #1. Frequency & Gaussian distribution\n",
    "\n",
    "    #2. Frequency smoothened KDE plot\n",
    "\n",
    "    #3. Gaussian distribution & smoothened KDE plot\n",
    "import numpy as np\n",
    "import matplotlib.pyplot as plt\n",
    "import seaborn as sns\n",
    "from scipy.stats import norm\n",
    "\n",
    "# Step 1: Generate a list of 500 integers between 200 and 300\n",
    "int_list2 = np.random.randint(200, 301, 500)\n",
    "\n",
    "# Step 2: Plot Frequency and Gaussian Distribution\n",
    "# Histogram of the data\n",
    "plt.figure(figsize=(10, 6))\n",
    "sns.histplot(int_list2, kde=False, bins=30, color='skyblue', stat=\"density\", label=\"Frequency\", alpha=0.6)\n",
    "\n",
    "# Fit a Gaussian distribution and overlay it\n",
    "mu, std = norm.fit(int_list2)  # Fit a normal distribution to the data\n",
    "xmin, xmax = plt.xlim()\n",
    "x = np.linspace(xmin, xmax, 100)\n",
    "p = norm.pdf(x, mu, std)\n",
    "plt.plot(x, p, 'k', linewidth=2, label=\"Gaussian Distribution\")\n",
    "\n",
    "plt.title('Frequency & Gaussian Distribution')\n",
    "plt.xlabel('Value')\n",
    "plt.ylabel('Density')\n",
    "plt.legend()\n",
    "plt.grid(True)\n",
    "plt.show()\n",
    "\n",
    "# Step 3: Frequency Smoothened KDE Plot\n",
    "plt.figure(figsize=(10, 6))\n",
    "sns.kdeplot(int_list2, color='green', shade=True, label=\"KDE Plot\")\n",
    "plt.title('Frequency Smoothened KDE Plot')\n",
    "plt.xlabel('Value')\n",
    "plt.ylabel('Density')\n",
    "plt.legend()\n",
    "plt.grid(True)\n",
    "plt.show()\n",
    "\n",
    "# Step 4: Compare Gaussian Distribution & Smoothened KDE Plot\n",
    "plt.figure(figsize=(10, 6))\n",
    "\n",
    "# Plot histogram\n",
    "sns.histplot(int_list2, kde=False, bins=30, color='skyblue', stat=\"density\", label=\"Frequency\", alpha=0.6)\n",
    "\n",
    "# Plot Gaussian distribution\n",
    "plt.plot(x, p, 'k', linewidth=2, label=\"Gaussian Distribution\")\n",
    "\n",
    "# Plot KDE plot\n",
    "sns.kdeplot(int_list2, color='green', shade=True, label=\"KDE Plot\")\n",
    "\n",
    "plt.title('Gaussian Distribution & Smoothened KDE Plot')\n",
    "plt.xlabel('Value')\n",
    "plt.ylabel('Density')\n",
    "plt.legend()\n",
    "plt.grid(True)\n",
    "plt.show()"
   ]
  },
  {
   "cell_type": "code",
   "execution_count": 9,
   "id": "4bb49fa9-5379-4c06-ba08-c8ba0fbeb7d1",
   "metadata": {},
   "outputs": [
    {
     "name": "stdout",
     "output_type": "stream",
     "text": [
      "Range of the list: 40\n"
     ]
    }
   ],
   "source": [
    "#  (ii) Write a Python function to calculate the range of a given list of numbers.\n",
    "# Function to calculate the range of a given list of numbers\n",
    "def calculate_range(numbers):\n",
    "    if len(numbers) == 0:\n",
    "        raise ValueError(\"The list must contain at least one number.\")\n",
    "    \n",
    "    # Calculate the range: max - min\n",
    "    range_value = max(numbers) - min(numbers)\n",
    "    \n",
    "    return range_value\n",
    "\n",
    "# Example usage\n",
    "numbers = [10, 20, 30, 40, 50]\n",
    "range_value = calculate_range(numbers)\n",
    "print(\"Range of the list:\", range_value)\n"
   ]
  },
  {
   "cell_type": "code",
   "execution_count": 10,
   "id": "52a8e2a0-a044-4eb0-90c8-ec6e5edd46dc",
   "metadata": {},
   "outputs": [
    {
     "name": "stdout",
     "output_type": "stream",
     "text": [
      "Variance of the list: 200.0\n",
      "Standard Deviation of the list: 14.142135623730951\n"
     ]
    }
   ],
   "source": [
    "#  (iii) Create a program to find the variance and standard deviation of a list of numbers.\n",
    "import math\n",
    "\n",
    "# Function to calculate variance and standard deviation\n",
    "def calculate_variance_and_std(numbers):\n",
    "    if len(numbers) == 0:\n",
    "        raise ValueError(\"The list must contain at least one number.\")\n",
    "    \n",
    "    # Step 1: Calculate the mean\n",
    "    mean = sum(numbers) / len(numbers)\n",
    "    \n",
    "    # Step 2: Calculate the variance\n",
    "    variance = sum((x - mean) ** 2 for x in numbers) / len(numbers)\n",
    "    \n",
    "    # Step 3: Calculate the standard deviation\n",
    "    std_deviation = math.sqrt(variance)\n",
    "    \n",
    "    return variance, std_deviation\n",
    "\n",
    "# Example usage\n",
    "numbers = [10, 20, 30, 40, 50]\n",
    "\n",
    "# Calculate variance and standard deviation\n",
    "variance, std_deviation = calculate_variance_and_std(numbers)\n",
    "\n",
    "print(\"Variance of the list:\", variance)\n",
    "print(\"Standard Deviation of the list:\", std_deviation)\n"
   ]
  },
  {
   "cell_type": "code",
   "execution_count": 1,
   "id": "9db58903-4a7f-4255-865a-1083b0bd4c6a",
   "metadata": {},
   "outputs": [],
   "source": [
    "#  (iv) Implement a function to compute the interquartile range (IQR) of a list of values.\n",
    "import numpy as np\n",
    "\n",
    "def compute_iqr(data):\n",
    "    q1 = np.percentile(data, 25)\n",
    "    q3 = np.percentile(data, 75)\n",
    "    iqr = q3 - q1\n",
    "    return iqr\n"
   ]
  },
  {
   "cell_type": "code",
   "execution_count": 2,
   "id": "76dbaf14-7ae9-406e-abec-e18e2e2e32d2",
   "metadata": {},
   "outputs": [],
   "source": [
    "#  (v) Build a program to calculate the coefficient of variation for a dataset.\n",
    "def coefficient_of_variation(data):\n",
    "    mean = np.mean(data)\n",
    "    std_dev = np.std(data)\n",
    "    cv = (std_dev / mean) * 100\n",
    "    return cv\n"
   ]
  },
  {
   "cell_type": "code",
   "execution_count": 3,
   "id": "2a8adf0d-3e7b-4277-bd1e-e7d22a19f728",
   "metadata": {},
   "outputs": [],
   "source": [
    "#  (vi) Write a Python function to find the mean absolute deviation (MAD) of a list of numbers.\n",
    "def mean_absolute_deviation(data):\n",
    "    mean = np.mean(data)\n",
    "    mad = np.mean(np.abs(data - mean))\n",
    "    return mad\n"
   ]
  },
  {
   "cell_type": "code",
   "execution_count": 4,
   "id": "3219016f-dccc-4913-843a-87885c5ff102",
   "metadata": {},
   "outputs": [],
   "source": [
    "#  (vii) Create a program to calculate the quartile deviation of a list of values.\n",
    "def quartile_deviation(data):\n",
    "    q1 = np.percentile(data, 25)\n",
    "    q3 = np.percentile(data, 75)\n",
    "    qd = (q3 - q1) / 2\n",
    "    return qd\n"
   ]
  },
  {
   "cell_type": "code",
   "execution_count": 5,
   "id": "a9e6115f-09e7-4743-a4ab-04ad07b0a973",
   "metadata": {},
   "outputs": [],
   "source": [
    "#  (viii) Implement a function to find the range-based coefficient of dispersion for a dataset.\n",
    "def range_based_coefficient_of_dispersion(data):\n",
    "    range_value = np.max(data) - np.min(data)\n",
    "    mean = np.mean(data)\n",
    "    coefficient = range_value / mean\n",
    "    return coefficient\n"
   ]
  },
  {
   "cell_type": "code",
   "execution_count": 6,
   "id": "365c5be1-a022-4cec-86bb-b7449b7c4c8f",
   "metadata": {},
   "outputs": [
    {
     "name": "stdout",
     "output_type": "stream",
     "text": [
      "Expected Value: 2.0999999999999996\n",
      "Variance: 0.49\n"
     ]
    }
   ],
   "source": [
    "# 3)  Write a Python class representing a discrete random variable with methods to calculate its expected value and variance.\n",
    "class DiscreteRandomVariable:\n",
    "    def __init__(self, probabilities, values):\n",
    "        self.probabilities = probabilities\n",
    "        self.values = values\n",
    "    \n",
    "    def expected_value(self):\n",
    "        return np.sum(np.array(self.probabilities) * np.array(self.values))\n",
    "    \n",
    "    def variance(self):\n",
    "        mean = self.expected_value()\n",
    "        return np.sum(self.probabilities * (np.array(self.values) - mean)**2)\n",
    "\n",
    "# Example usage\n",
    "probabilities = [0.2, 0.5, 0.3]\n",
    "values = [1, 2, 3]\n",
    "drv = DiscreteRandomVariable(probabilities, values)\n",
    "\n",
    "print(\"Expected Value:\", drv.expected_value())\n",
    "print(\"Variance:\", drv.variance())\n"
   ]
  },
  {
   "cell_type": "code",
   "execution_count": 7,
   "id": "a2b0c466-1d02-4bd1-a8a9-39c79dea9c10",
   "metadata": {},
   "outputs": [
    {
     "name": "stdout",
     "output_type": "stream",
     "text": [
      "Expected Value: 3.535\n",
      "Variance: 2.8087750000000007\n"
     ]
    }
   ],
   "source": [
    "#4) Implement a program to simulate the rolling of a fair six-sided die and calculate the expected value and variance of the outcomes.\n",
    "import numpy as np\n",
    "\n",
    "def simulate_die_rolls(num_rolls=1000):\n",
    "    rolls = np.random.choice([1, 2, 3, 4, 5, 6], size=num_rolls)\n",
    "    expected_value = np.mean(rolls)\n",
    "    variance = np.var(rolls)\n",
    "    return expected_value, variance\n",
    "\n",
    "expected_value, variance = simulate_die_rolls(1000)\n",
    "print(\"Expected Value:\", expected_value)\n",
    "print(\"Variance:\", variance)\n"
   ]
  },
  {
   "cell_type": "code",
   "execution_count": 8,
   "id": "c0b8001c-ea0a-4d96-ac15-b3d06f4ea42b",
   "metadata": {},
   "outputs": [
    {
     "name": "stdout",
     "output_type": "stream",
     "text": [
      "Mean: 4.971\n",
      "Variance: 2.6161590000000006\n"
     ]
    }
   ],
   "source": [
    "# 5) Create a Python function to generate random samples from a given probability distribution (e.g., binomial, Poisson) and calculate their mean and variance.\n",
    "def random_binomial_sample(n, p, size):\n",
    "    samples = np.random.binomial(n, p, size)\n",
    "    mean = np.mean(samples)\n",
    "    variance = np.var(samples)\n",
    "    return mean, variance\n",
    "\n",
    "# Example usage for binomial distribution\n",
    "n, p = 10, 0.5  # n=10 trials, p=0.5 probability of success\n",
    "size = 1000  # number of samples\n",
    "mean, variance = random_binomial_sample(n, p, size)\n",
    "\n",
    "print(\"Mean:\", mean)\n",
    "print(\"Variance:\", variance)\n"
   ]
  },
  {
   "cell_type": "code",
   "execution_count": 9,
   "id": "918ee189-a800-4f5c-b08c-d242fd96716d",
   "metadata": {},
   "outputs": [
    {
     "name": "stdout",
     "output_type": "stream",
     "text": [
      "Mean: 0.02613676441781191\n",
      "Variance: 0.9728423768619875\n",
      "Standard Deviation: 0.9863277228497572\n"
     ]
    }
   ],
   "source": [
    "#6) Write a Python script to generate random numbers from a Gaussian (normal) distribution and compute the mean, variance, and standard deviation of the samples.\n",
    "def generate_gaussian_samples(mu, sigma, size):\n",
    "    samples = np.random.normal(mu, sigma, size)\n",
    "    mean = np.mean(samples)\n",
    "    variance = np.var(samples)\n",
    "    std_dev = np.std(samples)\n",
    "    return mean, variance, std_dev\n",
    "\n",
    "# Example usage\n",
    "mu, sigma = 0, 1  # Mean 0, Standard deviation 1\n",
    "size = 1000\n",
    "mean, variance, std_dev = generate_gaussian_samples(mu, sigma, size)\n",
    "\n",
    "print(\"Mean:\", mean)\n",
    "print(\"Variance:\", variance)\n",
    "print(\"Standard Deviation:\", std_dev)\n"
   ]
  },
  {
   "cell_type": "code",
   "execution_count": 10,
   "id": "7a7501e0-c9f6-451e-bfb7-38d72143b87a",
   "metadata": {},
   "outputs": [
    {
     "name": "stdout",
     "output_type": "stream",
     "text": [
      "PDF value at x=0: 0.3989422804014327\n"
     ]
    }
   ],
   "source": [
    "# 7) Use seaborn library to load tips dataset. Find the following from the dataset for the columns total_bill and tip`:\n",
    "# (i) Write a Python function that calculates their skewness.\n",
    "from scipy.stats import norm\n",
    "\n",
    "def normal_pdf(x, mu, sigma):\n",
    "    return norm.pdf(x, mu, sigma)\n",
    "\n",
    "# Example usage\n",
    "x = 0\n",
    "mu, sigma = 0, 1\n",
    "pdf_value = normal_pdf(x, mu, sigma)\n",
    "\n",
    "print(f\"PDF value at x={x}: {pdf_value}\")\n"
   ]
  },
  {
   "cell_type": "code",
   "execution_count": 11,
   "id": "b58e3eec-f9a2-4ecf-ba78-51ce49bb6982",
   "metadata": {},
   "outputs": [
    {
     "name": "stdout",
     "output_type": "stream",
     "text": [
      "CDF value at x=1: 0.6321205588285577\n"
     ]
    }
   ],
   "source": [
    "# (ii) Create a program that determines whether the columns exhibit positive skewness, negative skewness, or is approximately symmetric.\n",
    "from scipy.stats import expon\n",
    "\n",
    "def exponential_cdf(x, scale=1):\n",
    "    return expon.cdf(x, scale=scale)\n",
    "\n",
    "# Example usage\n",
    "x = 1\n",
    "scale = 1  # rate parameter (lambda)\n",
    "cdf_value = exponential_cdf(x, scale)\n",
    "\n",
    "print(f\"CDF value at x={x}: {cdf_value}\")\n",
    "\n",
    "\n"
   ]
  },
  {
   "cell_type": "code",
   "execution_count": 12,
   "id": "0646f727-8bb6-44b5-ab74-7a9bda62dc6e",
   "metadata": {},
   "outputs": [
    {
     "name": "stdout",
     "output_type": "stream",
     "text": [
      "PMF value at k=3: 0.18044704431548356\n"
     ]
    }
   ],
   "source": [
    "#  (iii) Write a function that calculates the covariance between two columns.\n",
    "from scipy.stats import poisson\n",
    "\n",
    "def poisson_pmf(k, mu):\n",
    "    return poisson.pmf(k, mu)\n",
    "\n",
    "# Example usage\n",
    "k = 3\n",
    "mu = 2  # mean number of events\n",
    "pmf_value = poisson_pmf(k, mu)\n",
    "\n",
    "print(f\"PMF value at k={k}: {pmf_value}\")\n"
   ]
  },
  {
   "cell_type": "code",
   "execution_count": 13,
   "id": "783b741a-6bfd-43af-8bf9-20fe52978dc5",
   "metadata": {},
   "outputs": [
    {
     "name": "stdout",
     "output_type": "stream",
     "text": [
      "Skewness of total_bill: 1.1332130376158205\n",
      "Skewness of tip: 1.4654510370979401\n"
     ]
    }
   ],
   "source": [
    "#  (iv) Implement a Python program that calculates the Pearson correlation coefficient between two columns.\n",
    "import seaborn as sns\n",
    "\n",
    "# Load the tips dataset\n",
    "tips = sns.load_dataset('tips')\n",
    "\n",
    "# Calculate skewness for total_bill and tip columns\n",
    "skew_total_bill = tips['total_bill'].skew()\n",
    "skew_tip = tips['tip'].skew()\n",
    "\n",
    "print(f\"Skewness of total_bill: {skew_total_bill}\")\n",
    "print(f\"Skewness of tip: {skew_tip}\")\n"
   ]
  },
  {
   "cell_type": "code",
   "execution_count": 14,
   "id": "b0d5a75a-3e39-4794-a53d-abb165197b71",
   "metadata": {},
   "outputs": [
    {
     "data": {
      "image/png": "[encoded data removed]",
      "text/plain": [
       "<Figure size 640x480 with 1 Axes>"
      ]
     },
     "metadata": {},
     "output_type": "display_data"
    }
   ],
   "source": [
    "# (v) Write a script to visualize the correlation between two specific columns in a Pandas DataFrame using scatter plots.\n",
    "import pandas as pd\n",
    "import matplotlib.pyplot as plt\n",
    "import seaborn as sns\n",
    "\n",
    "# Example: Load a sample dataset (replace this with your own DataFrame)\n",
    "# For demonstration purposes, we'll use the 'tips' dataset from Seaborn\n",
    "\n",
    "# Load the tips dataset from seaborn\n",
    "df = sns.load_dataset('tips')\n",
    "\n",
    "# Specify the columns you want to analyze\n",
    "column1 = 'total_bill'\n",
    "column2 = 'tip'\n",
    "\n",
    "# Create a scatter plot using seaborn (you can also use matplotlib directly)\n",
    "sns.scatterplot(x=df[column1], y=df[column2])\n",
    "\n",
    "# Customize the plot (optional)\n",
    "plt.title(f\"Scatter Plot between {column1} and {column2}\")\n",
    "plt.xlabel(column1)\n",
    "plt.ylabel(column2)\n",
    "\n",
    "# Show the plot\n",
    "plt.show()\n"
   ]
  },
  {
   "cell_type": "code",
   "execution_count": 15,
   "id": "6558b6fa-74e7-4fcc-9b76-a560521c63df",
   "metadata": {},
   "outputs": [
    {
     "name": "stdout",
     "output_type": "stream",
     "text": [
      "PDF value at x=0: 0.3989422804014327\n"
     ]
    }
   ],
   "source": [
    "#8) Write a Python function to calculate the probability density function (PDF) of a continuous random variable for a given normal distribution.\n",
    "import numpy as np\n",
    "from scipy.stats import norm\n",
    "\n",
    "def normal_pdf(x, mu, sigma):\n",
    "    \"\"\"\n",
    "    Calculate the Probability Density Function (PDF) for a normal distribution.\n",
    "    \n",
    "    Parameters:\n",
    "    x : float or array-like\n",
    "        The value(s) at which the PDF is evaluated.\n",
    "    mu : float\n",
    "        The mean (mu) of the normal distribution.\n",
    "    sigma : float\n",
    "        The standard deviation (sigma) of the normal distribution.\n",
    "    \n",
    "    Returns:\n",
    "    float or array-like\n",
    "        The PDF value(s) at the given x.\n",
    "    \"\"\"\n",
    "    return norm.pdf(x, loc=mu, scale=sigma)\n",
    "\n",
    "# Example usage\n",
    "x = 0  # Value for which PDF is calculated\n",
    "mu = 0  # Mean of the distribution\n",
    "sigma = 1  # Standard deviation\n",
    "\n",
    "pdf_value = normal_pdf(x, mu, sigma)\n",
    "print(f\"PDF value at x={x}: {pdf_value}\")\n"
   ]
  },
  {
   "cell_type": "code",
   "execution_count": 16,
   "id": "bad0f465-0069-4606-af0c-c1c656038d6c",
   "metadata": {},
   "outputs": [
    {
     "name": "stdout",
     "output_type": "stream",
     "text": [
      "CDF value at x=5 with lambda=1: 0.9932620530009145\n"
     ]
    }
   ],
   "source": [
    "#9) Create a program to calculate the cumulative distribution function (CDF) of exponential distribution.\n",
    "import numpy as np\n",
    "from scipy.stats import expon\n",
    "\n",
    "def exponential_cdf(x, lambda_rate):\n",
    "    \"\"\"\n",
    "    Calculate the CDF of an exponential distribution.\n",
    "    \n",
    "    Parameters:\n",
    "    x : float or array-like\n",
    "        The value(s) at which the CDF is evaluated.\n",
    "    lambda_rate : float\n",
    "        The rate parameter (lambda) of the exponential distribution.\n",
    "    \n",
    "    Returns:\n",
    "    float or array-like\n",
    "        The CDF value(s) at the given x.\n",
    "    \"\"\"\n",
    "    return expon.cdf(x, scale=1/lambda_rate)\n",
    "\n",
    "# Example usage\n",
    "x = 5  # Value at which to evaluate the CDF\n",
    "lambda_rate = 1  # Rate parameter (lambda)\n",
    "\n",
    "cdf_value = exponential_cdf(x, lambda_rate)\n",
    "print(f\"CDF value at x={x} with lambda={lambda_rate}: {cdf_value}\")\n"
   ]
  },
  {
   "cell_type": "code",
   "execution_count": 17,
   "id": "0af43488-0b87-4368-b40a-356bd01c9f9e",
   "metadata": {},
   "outputs": [
    {
     "name": "stdout",
     "output_type": "stream",
     "text": [
      "PMF value for k=3 with lambda=2: 0.18044704431548356\n"
     ]
    }
   ],
   "source": [
    "#10) Write a Python function to calculate the probability mass function (PMF) of Poisson distribution.\n",
    "import scipy.stats as stats\n",
    "\n",
    "def poisson_pmf(k, lambda_rate):\n",
    "    \"\"\"\n",
    "    Calculate the Probability Mass Function (PMF) for a Poisson distribution.\n",
    "    \n",
    "    Parameters:\n",
    "    k : int\n",
    "        The number of events (value at which the PMF is evaluated).\n",
    "    lambda_rate : float\n",
    "        The rate parameter (lambda) of the Poisson distribution.\n",
    "    \n",
    "    Returns:\n",
    "    float\n",
    "        The PMF value for the given k and lambda_rate.\n",
    "    \"\"\"\n",
    "    return stats.poisson.pmf(k, lambda_rate)\n",
    "\n",
    "# Example usage\n",
    "k = 3  # Number of events\n",
    "lambda_rate = 2  # Rate parameter (average number of events)\n",
    "\n",
    "pmf_value = poisson_pmf(k, lambda_rate)\n",
    "print(f\"PMF value for k={k} with lambda={lambda_rate}: {pmf_value}\")\n"
   ]
  },
  {
   "cell_type": "code",
   "execution_count": 18,
   "id": "c3d0ea3d-a567-496b-82ba-e4e96478265f",
   "metadata": {},
   "outputs": [
    {
     "name": "stdout",
     "output_type": "stream",
     "text": [
      "Z-statistic: -1.883108942886774\n",
      "P-value: 0.9701571972337869\n",
      "Fail to reject the null hypothesis: No significant difference between the layouts.\n"
     ]
    }
   ],
   "source": [
    "#11) A company wants to test if a new website layout leads to a higher conversion rate (percentage of visitors who make a purchase). They collect data from the old and new layouts to compare.\n",
    "import numpy as np\n",
    "import statsmodels.api as sm\n",
    "from statsmodels.stats.proportion import proportions_ztest\n",
    "\n",
    "# Data for old and new layouts\n",
    "old_layout = np.array([1] * 50 + [0] * 950)  # 50 purchases, 950 non-purchases\n",
    "new_layout = np.array([1] * 70 + [0] * 930)  # 70 purchases, 930 non-purchases\n",
    "\n",
    "# Number of purchases in old and new layout\n",
    "success_old = old_layout.sum()\n",
    "success_new = new_layout.sum()\n",
    "\n",
    "# Number of visitors in old and new layout\n",
    "n_old = len(old_layout)\n",
    "n_new = len(new_layout)\n",
    "\n",
    "# Perform Z-test for proportions\n",
    "successes = np.array([success_old, success_new])\n",
    "visitors = np.array([n_old, n_new])\n",
    "\n",
    "# Perform z-test to compare the two proportions\n",
    "z_stat, p_value = proportions_ztest(successes, visitors, alternative='larger')\n",
    "\n",
    "# Output results\n",
    "print(f\"Z-statistic: {z_stat}\")\n",
    "print(f\"P-value: {p_value}\")\n",
    "\n",
    "# Decision\n",
    "if p_value < 0.05:\n",
    "    print(\"Reject the null hypothesis: The new layout is significantly better.\")\n",
    "else:\n",
    "    print(\"Fail to reject the null hypothesis: No significant difference between the layouts.\")\n"
   ]
  },
  {
   "cell_type": "code",
   "execution_count": 19,
   "id": "da7920a2-bbb2-446d-81eb-678e9aae48a9",
   "metadata": {},
   "outputs": [
    {
     "name": "stdout",
     "output_type": "stream",
     "text": [
      "Z-statistic: 4.593190894944668\n",
      "P-value: 2.182597052646784e-06\n",
      "Reject the null hypothesis: The tutoring program improves exam scores.\n"
     ]
    }
   ],
   "source": [
    "#12) A tutoring service claims that its program improves students' exam scores. A sample of students who participated in the program was taken, and their scores before and after the program were recorded.\n",
    "import numpy as np\n",
    "from scipy import stats\n",
    "\n",
    "# Sample data: Exam scores before and after the program\n",
    "before_program = np.array([75, 80, 85, 70, 90, 78, 92, 88, 82, 87])\n",
    "after_program = np.array([80, 85, 90, 80, 92, 80, 95, 90, 85, 88])\n",
    "\n",
    "# Calculate the differences (after - before)\n",
    "differences = after_program - before_program\n",
    "\n",
    "# Calculate mean and standard deviation of the differences\n",
    "mean_diff = np.mean(differences)\n",
    "std_diff = np.std(differences, ddof=1)  # sample standard deviation\n",
    "n = len(differences)\n",
    "\n",
    "# Assume normality, calculate the z-statistic\n",
    "z_stat = mean_diff / (std_diff / np.sqrt(n))\n",
    "\n",
    "# Calculate the p-value for a one-tailed z-test (since we expect the after score to be higher)\n",
    "p_value = 1 - stats.norm.cdf(z_stat)\n",
    "\n",
    "# Output results\n",
    "print(f\"Z-statistic: {z_stat}\")\n",
    "print(f\"P-value: {p_value}\")\n",
    "\n",
    "# Decision rule (using alpha = 0.05)\n",
    "alpha = 0.05\n",
    "if p_value < alpha:\n",
    "    print(\"Reject the null hypothesis: The tutoring program improves exam scores.\")\n",
    "else:\n",
    "    print(\"Fail to reject the null hypothesis: The tutoring program does not improve exam scores.\")\n"
   ]
  },
  {
   "cell_type": "code",
   "execution_count": 20,
   "id": "65b10add-a000-4d3b-acce-a7b78b03a4c3",
   "metadata": {},
   "outputs": [
    {
     "name": "stdout",
     "output_type": "stream",
     "text": [
      "Z-statistic: -10.049875621120888\n",
      "P-value: 0.0\n",
      "Reject the null hypothesis: The drug has a significant effect on blood pressure.\n"
     ]
    }
   ],
   "source": [
    "#13) A pharmaceutical company wants to determine if a new drug is effective in reducing blood pressure. They conduct a study and record blood pressure measurements before and after administering the drug.\n",
    "import numpy as np\n",
    "from scipy import stats\n",
    "\n",
    "# Blood pressure data before and after administering the drug\n",
    "before_drug = np.array([145, 150, 140, 135, 155, 160, 152, 148, 130, 138])\n",
    "after_drug = np.array([130, 140, 132, 128, 145, 148, 138, 136, 125, 130])\n",
    "\n",
    "# Calculate the differences between before and after blood pressure readings\n",
    "differences = after_drug - before_drug\n",
    "\n",
    "# Calculate the mean and standard deviation of the differences\n",
    "mean_diff = np.mean(differences)\n",
    "std_diff = np.std(differences, ddof=1)  # Sample standard deviation\n",
    "n = len(differences)\n",
    "\n",
    "# Calculate the z-statistic\n",
    "z_stat = mean_diff / (std_diff / np.sqrt(n))\n",
    "\n",
    "# Compute the p-value (two-tailed test)\n",
    "p_value = 2 * (1 - stats.norm.cdf(np.abs(z_stat)))\n",
    "\n",
    "# Output results\n",
    "print(f\"Z-statistic: {z_stat}\")\n",
    "print(f\"P-value: {p_value}\")\n",
    "\n",
    "# Decision\n",
    "alpha = 0.05\n",
    "if p_value < alpha:\n",
    "    print(\"Reject the null hypothesis: The drug has a significant effect on blood pressure.\")\n",
    "else:\n",
    "    print(\"Fail to reject the null hypothesis: The drug does not have a significant effect on blood pressure.\")\n"
   ]
  },
  {
   "cell_type": "code",
   "execution_count": 21,
   "id": "251d753a-5ee0-4b0a-8f9f-9b58594bb0a8",
   "metadata": {},
   "outputs": [
    {
     "name": "stdout",
     "output_type": "stream",
     "text": [
      "Z-statistic: -3.184457226042963\n",
      "P-value: 0.0007251287113068958\n",
      "Reject the null hypothesis: The average response time is less than 5 minutes.\n"
     ]
    }
   ],
   "source": [
    "#14) A customer service department claims that their average response time is less than 5 minutes. A sample of recent customer interactions was taken, and the response times were recorded.\n",
    "import numpy as np\n",
    "from scipy import stats\n",
    "\n",
    "# Response time data\n",
    "response_times = np.array([4.3, 3.8, 5.1, 4.9, 4.7, 4.2, 5.2, 4.5, 4.6, 4.4])\n",
    "\n",
    "# Population mean (claimed by customer service)\n",
    "mu = 5\n",
    "\n",
    "# Sample statistics\n",
    "sample_mean = np.mean(response_times)\n",
    "sample_std = np.std(response_times, ddof=1)  # Sample standard deviation\n",
    "n = len(response_times)\n",
    "\n",
    "# Calculate the z-statistic (using sample standard deviation as estimate of population std)\n",
    "z_stat = (sample_mean - mu) / (sample_std / np.sqrt(n))\n",
    "\n",
    "# Calculate the p-value (one-tailed test: less than 5)\n",
    "p_value = stats.norm.cdf(z_stat)\n",
    "\n",
    "# Output results\n",
    "print(f\"Z-statistic: {z_stat}\")\n",
    "print(f\"P-value: {p_value}\")\n",
    "\n",
    "# Decision\n",
    "alpha = 0.05\n",
    "if p_value < alpha:\n",
    "    print(\"Reject the null hypothesis: The average response time is less than 5 minutes.\")\n",
    "else:\n",
    "    print(\"Fail to reject the null hypothesis: The average response time is not less than 5 minutes.\")\n"
   ]
  },
  {
   "cell_type": "code",
   "execution_count": 22,
   "id": "ad2f1329-c6b9-4e88-91c8-a45e6d4a995f",
   "metadata": {},
   "outputs": [
    {
     "name": "stdout",
     "output_type": "stream",
     "text": [
      "Mean of Layout A: 32.50\n",
      "Mean of Layout B: 42.00\n",
      "T-statistic: -7.298\n",
      "Degrees of freedom: 17.88\n",
      "P-value: 0.0000\n",
      "Reject the null hypothesis: There is a significant difference in click-through rates.\n"
     ]
    }
   ],
   "source": [
    "#15) A company is testing two different website layouts to see which one leads to higher click-through rates. Write a Python function to perform an A/B test analysis, including calculating the t-statistic, degrees of freedom, and p-value.\n",
    "import numpy as np\n",
    "from scipy import stats\n",
    "\n",
    "# Data for the two layouts (number of clicks)\n",
    "layout_a_clicks = [28, 32, 33, 29, 31, 34, 30, 35, 36, 37]\n",
    "layout_b_clicks = [40, 41, 38, 42, 39, 44, 43, 41, 45, 47]\n",
    "\n",
    "def ab_test_analysis(layout_a, layout_b):\n",
    "    # Calculate the sample means and standard deviations\n",
    "    mean_a = np.mean(layout_a)\n",
    "    mean_b = np.mean(layout_b)\n",
    "    \n",
    "    std_a = np.std(layout_a, ddof=1)  # Sample standard deviation (ddof=1 for sample)\n",
    "    std_b = np.std(layout_b, ddof=1)\n",
    "    \n",
    "    n_a = len(layout_a)\n",
    "    n_b = len(layout_b)\n",
    "    \n",
    "    # Calculate the t-statistic\n",
    "    t_stat = (mean_a - mean_b) / np.sqrt((std_a**2 / n_a) + (std_b**2 / n_b))\n",
    "    \n",
    "    # Calculate the degrees of freedom using Welch-Satterthwaite equation\n",
    "    df = ((std_a**2 / n_a + std_b**2 / n_b)**2) / (((std_a**2 / n_a)**2) / (n_a - 1) + ((std_b**2 / n_b)**2) / (n_b - 1))\n",
    "    \n",
    "    # Calculate the p-value for a two-tailed test\n",
    "    p_value = 2 * (1 - stats.t.cdf(np.abs(t_stat), df))\n",
    "    \n",
    "    # Output results\n",
    "    print(f\"Mean of Layout A: {mean_a:.2f}\")\n",
    "    print(f\"Mean of Layout B: {mean_b:.2f}\")\n",
    "    print(f\"T-statistic: {t_stat:.3f}\")\n",
    "    print(f\"Degrees of freedom: {df:.2f}\")\n",
    "    print(f\"P-value: {p_value:.4f}\")\n",
    "    \n",
    "    # Decision based on p-value\n",
    "    alpha = 0.05\n",
    "    if p_value < alpha:\n",
    "        print(\"Reject the null hypothesis: There is a significant difference in click-through rates.\")\n",
    "    else:\n",
    "        print(\"Fail to reject the null hypothesis: There is no significant difference in click-through rates.\")\n",
    "\n",
    "# Run the A/B test analysis\n",
    "ab_test_analysis(layout_a_clicks, layout_b_clicks)\n"
   ]
  },
  {
   "cell_type": "code",
   "execution_count": 23,
   "id": "f2211440-5406-4239-b836-4f3fd4f49846",
   "metadata": {},
   "outputs": [
    {
     "name": "stdout",
     "output_type": "stream",
     "text": [
      "Mean of Existing Drug: 179.40\n",
      "Mean of New Drug: 171.90\n",
      "T-statistic: 4.140\n",
      "Degrees of freedom: 17.87\n",
      "P-value: 0.9997\n",
      "Fail to reject the null hypothesis: There is no significant difference between the two drugs.\n"
     ]
    }
   ],
   "source": [
    "#16)  A pharmaceutical company wants to determine if a new drug is more effective than an existing drug in reducing cholesterol levels. Create a program to analyze the clinical trial data and calculate the tstatistic and p-value for the treatment effect.\n",
    "import numpy as np\n",
    "from scipy import stats\n",
    "\n",
    "# Cholesterol levels for existing drug and new drug\n",
    "existing_drug_levels = [180, 182, 175, 185, 178, 176, 172, 184, 179, 183]\n",
    "new_drug_levels = [170, 172, 165, 168, 175, 173, 170, 178, 172, 176]\n",
    "\n",
    "def cholesterol_ttest(existing, new):\n",
    "    # Calculate the sample means and standard deviations\n",
    "    mean_existing = np.mean(existing)\n",
    "    mean_new = np.mean(new)\n",
    "    \n",
    "    std_existing = np.std(existing, ddof=1)  # Sample standard deviation (ddof=1 for sample)\n",
    "    std_new = np.std(new, ddof=1)\n",
    "    \n",
    "    n_existing = len(existing)\n",
    "    n_new = len(new)\n",
    "    \n",
    "    # Calculate the t-statistic\n",
    "    t_stat = (mean_existing - mean_new) / np.sqrt((std_existing**2 / n_existing) + (std_new**2 / n_new))\n",
    "    \n",
    "    # Calculate the degrees of freedom using Welch-Satterthwaite equation\n",
    "    df = ((std_existing**2 / n_existing + std_new**2 / n_new)**2) / (((std_existing**2 / n_existing)**2) / (n_existing - 1) + ((std_new**2 / n_new)**2) / (n_new - 1))\n",
    "    \n",
    "    # Calculate the p-value for a one-tailed test (new drug is expected to be lower)\n",
    "    p_value = stats.t.cdf(t_stat, df)\n",
    "    \n",
    "    # Output results\n",
    "    print(f\"Mean of Existing Drug: {mean_existing:.2f}\")\n",
    "    print(f\"Mean of New Drug: {mean_new:.2f}\")\n",
    "    print(f\"T-statistic: {t_stat:.3f}\")\n",
    "    print(f\"Degrees of freedom: {df:.2f}\")\n",
    "    print(f\"P-value: {p_value:.4f}\")\n",
    "    \n",
    "    # Decision based on p-value (one-tailed test)\n",
    "    alpha = 0.05\n",
    "    if p_value < alpha:\n",
    "        print(\"Reject the null hypothesis: The new drug is significantly more effective.\")\n",
    "    else:\n",
    "        print(\"Fail to reject the null hypothesis: There is no significant difference between the two drugs.\")\n",
    "\n",
    "# Run the t-test\n",
    "cholesterol_ttest(existing_drug_levels, new_drug_levels)\n"
   ]
  },
  {
   "cell_type": "code",
   "execution_count": 24,
   "id": "3d842102-eb1f-477a-9da9-a1a748756178",
   "metadata": {},
   "outputs": [
    {
     "name": "stdout",
     "output_type": "stream",
     "text": [
      "Mean difference: 7.70\n",
      "Standard deviation of differences: 5.50\n",
      "T-statistic: 4.428\n",
      "Degrees of freedom: 9\n",
      "P-value: 0.9992\n",
      "Fail to reject the null hypothesis: The intervention did not have a significant impact.\n"
     ]
    }
   ],
   "source": [
    "#17) A school district introduces an educational intervention program to improve math scores. Write a Python function to analyze pre- and post-intervention test scores, calculating the t-statistic and p-value to determine if the intervention had a significant impact.\n",
    "import numpy as np\n",
    "from scipy import stats\n",
    "\n",
    "# Test scores before and after the intervention\n",
    "pre_intervention_scores = [80, 85, 90, 75, 88, 82, 92, 78, 85, 87]\n",
    "post_intervention_scores = [90, 92, 88, 92, 95, 91, 96, 93, 89, 93]\n",
    "\n",
    "def intervention_ttest(pre_scores, post_scores):\n",
    "    # Calculate the differences between post and pre scores\n",
    "    differences = np.array(post_scores) - np.array(pre_scores)\n",
    "    \n",
    "    # Calculate the mean and standard deviation of the differences\n",
    "    mean_difference = np.mean(differences)\n",
    "    std_difference = np.std(differences, ddof=1)  # Sample standard deviation\n",
    "    n = len(differences)  # Number of pairs (students)\n",
    "    \n",
    "    # Calculate the t-statistic\n",
    "    t_stat = mean_difference / (std_difference / np.sqrt(n))\n",
    "    \n",
    "    # Calculate the degrees of freedom\n",
    "    df = n - 1\n",
    "    \n",
    "    # Calculate the p-value for a one-tailed test (since we expect the post scores to be higher)\n",
    "    p_value = stats.t.cdf(t_stat, df)\n",
    "    \n",
    "    # Output results\n",
    "    print(f\"Mean difference: {mean_difference:.2f}\")\n",
    "    print(f\"Standard deviation of differences: {std_difference:.2f}\")\n",
    "    print(f\"T-statistic: {t_stat:.3f}\")\n",
    "    print(f\"Degrees of freedom: {df}\")\n",
    "    print(f\"P-value: {p_value:.4f}\")\n",
    "    \n",
    "    # Decision based on p-value (one-tailed test)\n",
    "    alpha = 0.05\n",
    "    if p_value < alpha:\n",
    "        print(\"Reject the null hypothesis: The intervention had a significant impact.\")\n",
    "    else:\n",
    "        print(\"Fail to reject the null hypothesis: The intervention did not have a significant impact.\")\n",
    "\n",
    "# Run the t-test\n",
    "intervention_ttest(pre_intervention_scores, post_intervention_scores)\n"
   ]
  },
  {
   "cell_type": "code",
   "execution_count": 25,
   "id": "bdb65e27-4a1d-415f-b307-155728296a1b",
   "metadata": {},
   "outputs": [
    {
     "name": "stdout",
     "output_type": "stream",
     "text": [
      "Mean male salary: $55693.35\n",
      "Mean female salary: $55501.75\n",
      "T-statistic: 0.061\n",
      "Degrees of freedom: 36.17\n",
      "P-value: 0.9516\n",
      "Fail to reject the null hypothesis: There is no significant gender salary gap.\n"
     ]
    }
   ],
   "source": [
    "#18) An HR department wants to investigate if there's a gender-based salary gap within the company. Develop a program to analyze salary data, calculate the t-statistic, and determine if there's a statistically significant difference between the average salaries of male and female employees.\n",
    "import numpy as np\n",
    "from scipy import stats\n",
    "\n",
    "# Generate synthetic salary data for male and female employees\n",
    "np.random.seed(0)  # For reproducibility\n",
    "\n",
    "male_salaries = np.random.normal(loc=50000, scale=10000, size=20)\n",
    "female_salaries = np.random.normal(loc=55000, scale=9000, size=20)\n",
    "\n",
    "def gender_salary_gap_test(male_salaries, female_salaries):\n",
    "    # Calculate the sample means and standard deviations\n",
    "    mean_male = np.mean(male_salaries)\n",
    "    mean_female = np.mean(female_salaries)\n",
    "    \n",
    "    std_male = np.std(male_salaries, ddof=1)  # Sample standard deviation\n",
    "    std_female = np.std(female_salaries, ddof=1)\n",
    "    \n",
    "    n_male = len(male_salaries)\n",
    "    n_female = len(female_salaries)\n",
    "    \n",
    "    # Calculate the t-statistic\n",
    "    t_stat = (mean_male - mean_female) / np.sqrt((std_male**2 / n_male) + (std_female**2 / n_female))\n",
    "    \n",
    "    # Degrees of freedom (using Welch-Satterthwaite equation for unequal variances)\n",
    "    df = ((std_male**2 / n_male + std_female**2 / n_female)**2) / \\\n",
    "         (((std_male**2 / n_male)**2 / (n_male - 1)) + ((std_female**2 / n_female)**2 / (n_female - 1)))\n",
    "    \n",
    "    # Calculate the p-value for a two-tailed test\n",
    "    p_value = 2 * (1 - stats.t.cdf(abs(t_stat), df))\n",
    "    \n",
    "    # Output the results\n",
    "    print(f\"Mean male salary: ${mean_male:.2f}\")\n",
    "    print(f\"Mean female salary: ${mean_female:.2f}\")\n",
    "    print(f\"T-statistic: {t_stat:.3f}\")\n",
    "    print(f\"Degrees of freedom: {df:.2f}\")\n",
    "    print(f\"P-value: {p_value:.4f}\")\n",
    "    \n",
    "    # Decision based on p-value\n",
    "    alpha = 0.05  # Significance level\n",
    "    if p_value < alpha:\n",
    "        print(\"Reject the null hypothesis: There is a significant gender salary gap.\")\n",
    "    else:\n",
    "        print(\"Fail to reject the null hypothesis: There is no significant gender salary gap.\")\n",
    "\n",
    "# Run the test\n",
    "gender_salary_gap_test(male_salaries, female_salaries)\n"
   ]
  },
  {
   "cell_type": "code",
   "execution_count": 26,
   "id": "39099061-2313-447e-a4aa-1ba777ca991f",
   "metadata": {},
   "outputs": [
    {
     "name": "stdout",
     "output_type": "stream",
     "text": [
      "Mean version 1 score: 86.64\n",
      "Mean version 2 score: 79.96\n",
      "T-statistic: 11.326\n",
      "Degrees of freedom: 44.47\n",
      "P-value: 0.0000\n",
      "Reject the null hypothesis: There is a significant difference in quality between version 1 and version 2.\n"
     ]
    }
   ],
   "source": [
    "#19) A manufacturer produces two different versions of a product and wants to compare their quality scores. Create a Python function to analyze quality assessment data, calculate the t-statistic, and decide whether there's a significant difference in quality between the two versions.\n",
    "import numpy as np\n",
    "from scipy import stats\n",
    "\n",
    "# Quality scores for version 1 and version 2\n",
    "version1_scores = [85, 88, 82, 89, 87, 84, 90, 88, 85, 86, 91, 83, 87, 84, 89, 86, 84, 88, 85, 86, 89, 90, 87, 88, 85]\n",
    "version2_scores = [80, 78, 83, 81, 79, 82, 76, 80, 78, 81, 77, 82, 80, 79, 82, 79, 80, 81, 79, 82, 79, 78, 80, 81, 82]\n",
    "\n",
    "def compare_product_versions(version1_scores, version2_scores):\n",
    "    # Calculate means and standard deviations for both groups\n",
    "    mean_v1 = np.mean(version1_scores)\n",
    "    mean_v2 = np.mean(version2_scores)\n",
    "    \n",
    "    std_v1 = np.std(version1_scores, ddof=1)  # Sample standard deviation\n",
    "    std_v2 = np.std(version2_scores, ddof=1)\n",
    "    \n",
    "    n_v1 = len(version1_scores)\n",
    "    n_v2 = len(version2_scores)\n",
    "    \n",
    "    # Calculate the t-statistic\n",
    "    t_stat = (mean_v1 - mean_v2) / np.sqrt((std_v1**2 / n_v1) + (std_v2**2 / n_v2))\n",
    "    \n",
    "    # Degrees of freedom (using Welch-Satterthwaite equation for unequal variances)\n",
    "    df = ((std_v1**2 / n_v1 + std_v2**2 / n_v2)**2) / \\\n",
    "         (((std_v1**2 / n_v1)**2 / (n_v1 - 1)) + ((std_v2**2 / n_v2)**2 / (n_v2 - 1)))\n",
    "    \n",
    "    # Calculate the p-value for a two-tailed test\n",
    "    p_value = 2 * (1 - stats.t.cdf(abs(t_stat), df))\n",
    "    \n",
    "    # Output the results\n",
    "    print(f\"Mean version 1 score: {mean_v1:.2f}\")\n",
    "    print(f\"Mean version 2 score: {mean_v2:.2f}\")\n",
    "    print(f\"T-statistic: {t_stat:.3f}\")\n",
    "    print(f\"Degrees of freedom: {df:.2f}\")\n",
    "    print(f\"P-value: {p_value:.4f}\")\n",
    "    \n",
    "    # Decision based on p-value\n",
    "    alpha = 0.05  # Significance level\n",
    "    if p_value < alpha:\n",
    "        print(\"Reject the null hypothesis: There is a significant difference in quality between version 1 and version 2.\")\n",
    "    else:\n",
    "        print(\"Fail to reject the null hypothesis: There is no significant difference in quality between version 1 and version 2.\")\n",
    "\n",
    "# Run the test\n",
    "compare_product_versions(version1_scores, version2_scores)\n"
   ]
  },
  {
   "cell_type": "code",
   "execution_count": 27,
   "id": "31febd61-4b9e-4421-8e9c-fdb9e87de2bd",
   "metadata": {},
   "outputs": [
    {
     "name": "stdout",
     "output_type": "stream",
     "text": [
      "Mean Branch A score: 4.13\n",
      "Mean Branch B score: 3.13\n",
      "T-statistic: 5.480\n",
      "Degrees of freedom: 60.00\n",
      "P-value: 0.0000\n",
      "Reject the null hypothesis: There is a significant difference in customer satisfaction between Branch A and Branch B.\n"
     ]
    }
   ],
   "source": [
    "# 20. A restaurant chain collects customer satisfaction scores for two different branches. Write a program to analyze the scores, calculate the t-statistic, and determine if there's a statistically significant difference in customer satisfaction between the branches.\n",
    "import numpy as np\n",
    "from scipy import stats\n",
    "\n",
    "# Customer satisfaction scores for Branch A and Branch B\n",
    "branch_a_scores = [4, 5, 3, 4, 5, 4, 5, 3, 4, 4, 5, 4, 4, 3, 4, 5, 5, 4, 3, 4, 5, 4, 3, 5, 4, 4, 5, 3, 4, 5, 4]\n",
    "branch_b_scores = [3, 4, 2, 3, 4, 3, 4, 2, 3, 3, 4, 3, 3, 2, 3, 4, 4, 3, 2, 3, 4, 3, 2, 4, 3, 3, 4, 2, 3, 4, 3]\n",
    "\n",
    "def compare_customer_satisfaction(branch_a_scores, branch_b_scores):\n",
    "    # Calculate means and standard deviations for both groups\n",
    "    mean_a = np.mean(branch_a_scores)\n",
    "    mean_b = np.mean(branch_b_scores)\n",
    "    \n",
    "    std_a = np.std(branch_a_scores, ddof=1)  # Sample standard deviation\n",
    "    std_b = np.std(branch_b_scores, ddof=1)\n",
    "    \n",
    "    n_a = len(branch_a_scores)\n",
    "    n_b = len(branch_b_scores)\n",
    "    \n",
    "    # Calculate the t-statistic\n",
    "    t_stat = (mean_a - mean_b) / np.sqrt((std_a**2 / n_a) + (std_b**2 / n_b))\n",
    "    \n",
    "    # Degrees of freedom (using Welch-Satterthwaite equation for unequal variances)\n",
    "    df = ((std_a**2 / n_a + std_b**2 / n_b)**2) / \\\n",
    "         (((std_a**2 / n_a)**2 / (n_a - 1)) + ((std_b**2 / n_b)**2 / (n_b - 1)))\n",
    "    \n",
    "    # Calculate the p-value for a two-tailed test\n",
    "    p_value = 2 * (1 - stats.t.cdf(abs(t_stat), df))\n",
    "    \n",
    "    # Output the results\n",
    "    print(f\"Mean Branch A score: {mean_a:.2f}\")\n",
    "    print(f\"Mean Branch B score: {mean_b:.2f}\")\n",
    "    print(f\"T-statistic: {t_stat:.3f}\")\n",
    "    print(f\"Degrees of freedom: {df:.2f}\")\n",
    "    print(f\"P-value: {p_value:.4f}\")\n",
    "    \n",
    "    # Decision based on p-value\n",
    "    alpha = 0.05  # Significance level\n",
    "    if p_value < alpha:\n",
    "        print(\"Reject the null hypothesis: There is a significant difference in customer satisfaction between Branch A and Branch B.\")\n",
    "    else:\n",
    "        print(\"Fail to reject the null hypothesis: There is no significant difference in customer satisfaction between Branch A and Branch B.\")\n",
    "\n",
    "# Run the test\n",
    "compare_customer_satisfaction(branch_a_scores, branch_b_scores)\n"
   ]
  },
  {
   "cell_type": "code",
   "execution_count": 28,
   "id": "226e5c22-8390-415e-b174-ba3751a3072b",
   "metadata": {},
   "outputs": [
    {
     "name": "stdout",
     "output_type": "stream",
     "text": [
      "Contingency Table:\n",
      "col_0  Candidate A  Candidate B\n",
      "row_0                          \n",
      "18-30            4            8\n",
      "31-50            6            5\n",
      "51+              4            3\n",
      "\n",
      "Chi-Square Test Results:\n",
      "Chi-Square Statistic: 1.4402\n",
      "P-value: 0.4867\n",
      "Degrees of Freedom: 2\n",
      "\n",
      "Expected Frequencies:\n",
      "[[5.6        6.4       ]\n",
      " [5.13333333 5.86666667]\n",
      " [3.26666667 3.73333333]]\n",
      "\n",
      "Fail to reject the null hypothesis: There is no significant association between age groups and voter preferences.\n"
     ]
    }
   ],
   "source": [
    "#21) A political analyst wants to determine if there is a significant association between age groups and voter preferences (Candidate A or Candidate B). They collect data from a sample of 500 voters and classify them into different age groups and candidate preferences. Perform a Chi-Square test to determine if there is a significant association between age groups and voter preferences.\\\n",
    "import numpy as np\n",
    "import pandas as pd\n",
    "from scipy.stats import chi2_contingency\n",
    "\n",
    "# Generate synthetic data\n",
    "np.random.seed(0)\n",
    "\n",
    "# Sample size\n",
    "n = 30\n",
    "\n",
    "# Generate random data for age groups and voter preferences\n",
    "age_groups = np.random.choice(['18-30', '31-50', '51+'], size=n)\n",
    "voter_preferences = np.random.choice(['Candidate A', 'Candidate B'], size=n)\n",
    "\n",
    "# Create a contingency table\n",
    "contingency_table = pd.crosstab(age_groups, voter_preferences)\n",
    "\n",
    "# Display the contingency table\n",
    "print(\"Contingency Table:\")\n",
    "print(contingency_table)\n",
    "\n",
    "# Perform the Chi-Square test\n",
    "chi2_stat, p_val, dof, expected = chi2_contingency(contingency_table)\n",
    "\n",
    "# Output the results\n",
    "print(\"\\nChi-Square Test Results:\")\n",
    "print(f\"Chi-Square Statistic: {chi2_stat:.4f}\")\n",
    "print(f\"P-value: {p_val:.4f}\")\n",
    "print(f\"Degrees of Freedom: {dof}\")\n",
    "print(\"\\nExpected Frequencies:\")\n",
    "print(expected)\n",
    "\n",
    "# Decision based on p-value\n",
    "alpha = 0.05  # Significance level\n",
    "if p_val < alpha:\n",
    "    print(\"\\nReject the null hypothesis: There is a significant association between age groups and voter preferences.\")\n",
    "else:\n",
    "    print(\"\\nFail to reject the null hypothesis: There is no significant association between age groups and voter preferences.\")\n"
   ]
  },
  {
   "cell_type": "code",
   "execution_count": 29,
   "id": "a6e19955-3346-4b8d-815c-f5998ddffe14",
   "metadata": {},
   "outputs": [
    {
     "name": "stdout",
     "output_type": "stream",
     "text": [
      "Chi-Square Test Results:\n",
      "Chi-Square Statistic: 27.7771\n",
      "P-value: 0.0001\n",
      "Degrees of Freedom: 6\n",
      "\n",
      "Expected Frequencies:\n",
      "[[34.14634146 34.14634146 37.56097561 34.14634146]\n",
      " [36.58536585 36.58536585 40.24390244 36.58536585]\n",
      " [29.26829268 29.26829268 32.19512195 29.26829268]]\n",
      "\n",
      "Reject the null hypothesis: There is a significant association between product satisfaction levels and customer regions.\n"
     ]
    }
   ],
   "source": [
    "# 22. A company conducted a customer satisfaction survey to determine if there is a significant relationshipbetween product satisfaction levels (Satisfied, Neutral, Dissatisfied) and the region where customers arelocated (East, West, North, South). The survey data is summarized in a contingency table. Conduct a ChiSquare test to determine if there is a significant relationship between product satisfaction levels and customer regions.\n",
    "import numpy as np\n",
    "from scipy.stats import chi2_contingency\n",
    "\n",
    "# Sample data: Product satisfaction levels (rows) vs. Customer regions (columns)\n",
    "data = np.array([[50, 30, 40, 20],  # Satisfied\n",
    "                 [30, 40, 30, 50],  # Neutral\n",
    "                 [20, 30, 40, 30]])  # Dissatisfied\n",
    "\n",
    "# Perform the Chi-Square test\n",
    "chi2_stat, p_val, dof, expected = chi2_contingency(data)\n",
    "\n",
    "# Output the results\n",
    "print(\"Chi-Square Test Results:\")\n",
    "print(f\"Chi-Square Statistic: {chi2_stat:.4f}\")\n",
    "print(f\"P-value: {p_val:.4f}\")\n",
    "print(f\"Degrees of Freedom: {dof}\")\n",
    "print(\"\\nExpected Frequencies:\")\n",
    "print(expected)\n",
    "\n",
    "# Decision based on p-value\n",
    "alpha = 0.05  # Significance level\n",
    "if p_val < alpha:\n",
    "    print(\"\\nReject the null hypothesis: There is a significant association between product satisfaction levels and customer regions.\")\n",
    "else:\n",
    "    print(\"\\nFail to reject the null hypothesis: There is no significant association between product satisfaction levels and customer regions.\")\n"
   ]
  },
  {
   "cell_type": "code",
   "execution_count": 30,
   "id": "0a14a01d-3193-43f1-bfa0-ddab10f424da",
   "metadata": {},
   "outputs": [
    {
     "name": "stdout",
     "output_type": "stream",
     "text": [
      "Chi-Square Test Results:\n",
      "Chi-Square Statistic: 22.1617\n",
      "P-value: 0.0002\n",
      "Degrees of Freedom: 4\n",
      "\n",
      "Expected Frequencies:\n",
      "[[34.48275862 34.48275862 31.03448276]\n",
      " [34.48275862 34.48275862 31.03448276]\n",
      " [31.03448276 31.03448276 27.93103448]]\n",
      "\n",
      "Reject the null hypothesis: There is a significant difference in job performance levels before and after training.\n"
     ]
    }
   ],
   "source": [
    "# 23. A company implemented an employee training program to improve job performance (Effective, Neutral, Ineffective). After the training, they collected data from a sample of employees and classified them based on their job performance before and after the training. Perform a Chi-Square test to determine if there is a significant difference between job performance levels before and after the training.\n",
    "import numpy as np\n",
    "from scipy.stats import chi2_contingency\n",
    "\n",
    "# Sample data: Job performance levels before (rows) and after (columns) training\n",
    "data = np.array([[50, 30, 20],  # Before: Effective, Neutral, Ineffective\n",
    "                 [30, 40, 30],  # Before: Effective, Neutral, Ineffective\n",
    "                 [20, 30, 40]])  # Before: Effective, Neutral, Ineffective\n",
    "\n",
    "# Perform the Chi-Square test\n",
    "chi2_stat, p_val, dof, expected = chi2_contingency(data)\n",
    "\n",
    "# Output the results\n",
    "print(\"Chi-Square Test Results:\")\n",
    "print(f\"Chi-Square Statistic: {chi2_stat:.4f}\")\n",
    "print(f\"P-value: {p_val:.4f}\")\n",
    "print(f\"Degrees of Freedom: {dof}\")\n",
    "print(\"\\nExpected Frequencies:\")\n",
    "print(expected)\n",
    "\n",
    "# Decision based on p-value\n",
    "alpha = 0.05  # Significance level\n",
    "if p_val < alpha:\n",
    "    print(\"\\nReject the null hypothesis: There is a significant difference in job performance levels before and after training.\")\n",
    "else:\n",
    "    print(\"\\nFail to reject the null hypothesis: There is no significant difference in job performance levels before and after training.\")\n"
   ]
  },
  {
   "cell_type": "code",
   "execution_count": 31,
   "id": "1435b737-c5c6-4758-a739-77ec877d30ea",
   "metadata": {},
   "outputs": [
    {
     "name": "stdout",
     "output_type": "stream",
     "text": [
      "ANOVA Test Results:\n",
      "F-statistic: 27.0356\n",
      "P-value: 0.0000\n",
      "\n",
      "Reject the null hypothesis: There is a significant difference in customer satisfaction scores between the product versions.\n"
     ]
    }
   ],
   "source": [
    "#24. A company produces three different versions of a product: Standard, Premium, and Deluxe. The company wants to determine if there is a significant difference in customer satisfaction scores among the three product versions. They conducted a survey and collected customer satisfaction scores for each version from a random sample of customers. Perform an ANOVA test to determine if there is a significant difference in customer satisfaction scores.\n",
    "import numpy as np\n",
    "from scipy.stats import f_oneway\n",
    "\n",
    "# Sample data: Customer satisfaction scores for each product version\n",
    "standard_scores = [80, 85, 90, 78, 88, 82, 92, 78, 85, 87]\n",
    "premium_scores = [90, 92, 88, 92, 95, 91, 96, 93, 89, 93]\n",
    "deluxe_scores = [95, 98, 92, 97, 96, 94, 98, 97, 92, 99]\n",
    "\n",
    "# Perform the ANOVA test\n",
    "f_stat, p_val = f_oneway(standard_scores, premium_scores, deluxe_scores)\n",
    "\n",
    "# Output the results\n",
    "print(\"ANOVA Test Results:\")\n",
    "print(f\"F-statistic: {f_stat:.4f}\")\n",
    "print(f\"P-value: {p_val:.4f}\")\n",
    "\n",
    "# Decision based on p-value\n",
    "alpha = 0.05  # Significance level\n",
    "if p_val < alpha:\n",
    "    print(\"\\nReject the null hypothesis: There is a significant difference in customer satisfaction scores between the product versions.\")\n",
    "else:\n",
    "    print(\"\\nFail to reject the null hypothesis: There is no significant difference in customer satisfaction scores between the product versions.\")\n"
   ]
  },
  {
   "cell_type": "code",
   "execution_count": null,
   "id": "12349717-1907-419b-9084-e663b0b7fd1b",
   "metadata": {},
   "outputs": [],
   "source": []
  }
 ],
 "metadata": {
  "kernelspec": {
   "display_name": "Python 3 (ipykernel)",
   "language": "python",
   "name": "python3"
  },
  "language_info": {
   "codemirror_mode": {
    "name": "ipython",
    "version": 3
   },
   "file_extension": ".py",
   "mimetype": "text/x-python",
   "name": "python",
   "nbconvert_exporter": "python",
   "pygments_lexer": "ipython3",
   "version": "3.12.4"
  }
 },
 "nbformat": 4,
 "nbformat_minor": 5
}
